{
 "cells": [
  {
   "cell_type": "code",
   "execution_count": 2,
   "id": "0b810ff3-f758-4361-bd79-ef23f620d8a9",
   "metadata": {},
   "outputs": [
    {
     "data": {
      "text/plain": [
       "24"
      ]
     },
     "execution_count": 2,
     "metadata": {},
     "output_type": "execute_result"
    }
   ],
   "source": [
    "def multiply(a,b,c):\n",
    "    return a * b * c\n",
    "\n",
    "multiply(4,2,3)\n",
    "    "
   ]
  },
  {
   "cell_type": "code",
   "execution_count": 5,
   "id": "1828feca-2e9b-49f5-89e1-7489f35f8bda",
   "metadata": {},
   "outputs": [
    {
     "data": {
      "text/plain": [
       "8"
      ]
     },
     "execution_count": 5,
     "metadata": {},
     "output_type": "execute_result"
    }
   ],
   "source": [
    "def multiply(numbers):\n",
    "    result = 1\n",
    "    for n in numbers:\n",
    "        result = result * n\n",
    "    return result\n",
    "\n",
    "multiply ([4,2])"
   ]
  },
  {
   "cell_type": "code",
   "execution_count": 6,
   "id": "aa3bb465-4caf-441e-a18c-f5b87d68eaf0",
   "metadata": {},
   "outputs": [
    {
     "data": {
      "text/plain": [
       "16"
      ]
     },
     "execution_count": 6,
     "metadata": {},
     "output_type": "execute_result"
    }
   ],
   "source": [
    "multiply ([4,2,2])"
   ]
  },
  {
   "cell_type": "code",
   "execution_count": 10,
   "id": "2a29920e-b011-437a-9479-7541b2965b28",
   "metadata": {},
   "outputs": [],
   "source": [
    "def multiply(*numbers):\n",
    "    print(numbers)\n",
    "    result = 1\n",
    "    for n in numbers:\n",
    "        result = result * n\n",
    "    return result"
   ]
  },
  {
   "cell_type": "code",
   "execution_count": 11,
   "id": "edcb8dd2-a682-4e54-ac9b-6dcf11c0e240",
   "metadata": {},
   "outputs": [
    {
     "name": "stdout",
     "output_type": "stream",
     "text": [
      "(4, 2, 2, 5, 6, 7)\n"
     ]
    },
    {
     "data": {
      "text/plain": [
       "3360"
      ]
     },
     "execution_count": 11,
     "metadata": {},
     "output_type": "execute_result"
    }
   ],
   "source": [
    "multiply (4,2,2,5,6,7)"
   ]
  },
  {
   "cell_type": "code",
   "execution_count": 12,
   "id": "135004c4-abb4-4ff3-aef3-1a1101798885",
   "metadata": {},
   "outputs": [
    {
     "name": "stdout",
     "output_type": "stream",
     "text": [
      "1 2\n",
      "(3, 4)\n"
     ]
    }
   ],
   "source": [
    "def function(a,b, *args):\n",
    "    print(a,b)\n",
    "    print(args)\n",
    "\n",
    "function(1,2,3,4)"
   ]
  },
  {
   "cell_type": "code",
   "execution_count": 13,
   "id": "d67e83c7-0579-4a2b-ad76-d3393a5e0982",
   "metadata": {},
   "outputs": [
    {
     "name": "stdout",
     "output_type": "stream",
     "text": [
      "1 2\n",
      "()\n"
     ]
    }
   ],
   "source": [
    "def function(a,b, *args):\n",
    "    print(a,b)\n",
    "    print(args)\n",
    "\n",
    "function(1,2)"
   ]
  },
  {
   "cell_type": "code",
   "execution_count": 19,
   "id": "7db8b206-1e02-44db-a0cc-f4aedbeb5c93",
   "metadata": {},
   "outputs": [
    {
     "name": "stdout",
     "output_type": "stream",
     "text": [
      "Total cost with tax: 7589.999999999999\n"
     ]
    }
   ],
   "source": [
    "def car_repair_total(repair_cost, tax_rate, *additional_costs):\n",
    "    total_cost = repair_cost + sum(additional_costs)\n",
    "    total_cost_with_tax = total_cost * (1 + tax_rate)\n",
    "    return total_cost_with_tax\n",
    "\n",
    "repair_cost = 6000\n",
    "tax_rate = 0.15\n",
    "additional_costs = [200, 300, 100]\n",
    "\n",
    "total_cost = car_repair_total(repair_cost, tax_rate, *additional_costs)\n",
    "print(\"Total cost with tax:\", total_cost)\n"
   ]
  },
  {
   "cell_type": "code",
   "execution_count": 15,
   "id": "bd2b3f0a-c2eb-49c2-8521-29207ca8aeb3",
   "metadata": {},
   "outputs": [
    {
     "name": "stdout",
     "output_type": "stream",
     "text": [
      "1 2\n",
      "(3, 6, 5)\n",
      "True\n",
      "{'param': 42}\n"
     ]
    }
   ],
   "source": [
    "def function (a,b,*args, keyword=True, **kwargs):\n",
    "    print(a,b)\n",
    "    print(args)\n",
    "    print(keyword)\n",
    "    print(kwargs)\n",
    "\n",
    "function(1,2,3,6,5, param=42)"
   ]
  },
  {
   "cell_type": "code",
   "execution_count": 20,
   "id": "6db71923-6b48-422b-abc0-3e7086d97b66",
   "metadata": {},
   "outputs": [
    {
     "ename": "SyntaxError",
     "evalue": "expression cannot contain assignment, perhaps you meant \"==\"? (4099543810.py, line 7)",
     "output_type": "error",
     "traceback": [
      "\u001b[0;36m  Cell \u001b[0;32mIn[20], line 7\u001b[0;36m\u001b[0m\n\u001b[0;31m    function(1=1,b=2,3,6,5, param=42)\u001b[0m\n\u001b[0m             ^\u001b[0m\n\u001b[0;31mSyntaxError\u001b[0m\u001b[0;31m:\u001b[0m expression cannot contain assignment, perhaps you meant \"==\"?\n"
     ]
    }
   ],
   "source": [
    "def function (a,b,*args, keyword=True, **kwargs):\n",
    "    print(a,b)\n",
    "    print(args)\n",
    "    print(keyword)\n",
    "    print(kwargs)\n",
    "\n",
    "function(a=1,b=2,3,6,5, param=42)"
   ]
  },
  {
   "cell_type": "code",
   "execution_count": 26,
   "id": "b6dd710e-cfa0-43b7-bd13-cc0b3c67e1ec",
   "metadata": {},
   "outputs": [
    {
     "name": "stdout",
     "output_type": "stream",
     "text": [
      "1 2\n",
      "(3, 6, 5)\n",
      "True\n",
      "{'param': 42, 'param_a': 43, 'param_b': 44}\n"
     ]
    }
   ],
   "source": [
    "def function (a,b,*args, keyword=True, **kwargs):\n",
    "    print(a,b)\n",
    "    print(args)\n",
    "    print(keyword)\n",
    "    print(kwargs)\n",
    "d= {'param_a':43,'param_b':44}\n",
    "function(1,2,*[3,6,5], param=42, **d)"
   ]
  },
  {
   "cell_type": "code",
   "execution_count": 27,
   "id": "9cc060c7-2cdb-42aa-87ec-327d981bbeb6",
   "metadata": {},
   "outputs": [],
   "source": [
    "import json\n",
    "import pathlib"
   ]
  },
  {
   "cell_type": "code",
   "execution_count": 44,
   "id": "1038e585-2d98-4e09-a99a-08d492242cd9",
   "metadata": {},
   "outputs": [],
   "source": [
    "def dict_to_config(dictionary, file =\"config.json\", verbose=False, **kwargs):\n",
    "    \"\"\"\n",
    "    dictionary-\n",
    "    file-\n",
    "    verbose-\n",
    "    kwargs-\n",
    "    \"\"\"\n",
    "    json_txt = json.dumps(dictionary)\n",
    "    if verbose:\n",
    "        print(json_txt)\n",
    "    pathlib.Path(file).write_text(json_txt)"
   ]
  },
  {
   "cell_type": "code",
   "execution_count": 45,
   "id": "606e2b5f-af5d-4d10-bd97-0fb48c8bfba2",
   "metadata": {},
   "outputs": [
    {
     "name": "stdout",
     "output_type": "stream",
     "text": [
      "{\"a\": 1, \"b\": 2}\n"
     ]
    }
   ],
   "source": [
    "dict_to_config({'a':1, 'b':2}, verbose = True, indent=2)"
   ]
  },
  {
   "cell_type": "code",
   "execution_count": 46,
   "id": "25e26f4a-b382-488b-a370-2953e9ba4138",
   "metadata": {},
   "outputs": [
    {
     "name": "stdout",
     "output_type": "stream",
     "text": [
      "{\"a\": 1, \"b\": 2}"
     ]
    }
   ],
   "source": [
    "!cat config.json\n"
   ]
  },
  {
   "cell_type": "code",
   "execution_count": null,
   "id": "6901fa51-1a36-4ffc-8075-1685d463240a",
   "metadata": {},
   "outputs": [],
   "source": []
  }
 ],
 "metadata": {
  "kernelspec": {
   "display_name": "Python 3 (ipykernel)",
   "language": "python",
   "name": "python3"
  },
  "language_info": {
   "codemirror_mode": {
    "name": "ipython",
    "version": 3
   },
   "file_extension": ".py",
   "mimetype": "text/x-python",
   "name": "python",
   "nbconvert_exporter": "python",
   "pygments_lexer": "ipython3",
   "version": "3.12.1"
  }
 },
 "nbformat": 4,
 "nbformat_minor": 5
}
